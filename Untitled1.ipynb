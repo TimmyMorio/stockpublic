{
  "nbformat": 4,
  "nbformat_minor": 0,
  "metadata": {
    "colab": {
      "provenance": [],
      "authorship_tag": "ABX9TyNgJ8J5VZHzDKQUHMiA7tKR",
      "include_colab_link": true
    },
    "kernelspec": {
      "name": "python3",
      "display_name": "Python 3"
    },
    "language_info": {
      "name": "python"
    }
  },
  "cells": [
    {
      "cell_type": "markdown",
      "metadata": {
        "id": "view-in-github",
        "colab_type": "text"
      },
      "source": [
        "<a href=\"https://colab.research.google.com/github/TimmyMorio/stockpublic/blob/main/Untitled1.ipynb\" target=\"_parent\"><img src=\"https://colab.research.google.com/assets/colab-badge.svg\" alt=\"Open In Colab\"/></a>"
      ]
    },
    {
      "cell_type": "code",
      "execution_count": null,
      "metadata": {
        "colab": {
          "base_uri": "https://localhost:8080/"
        },
        "id": "lIiD2cE8alVJ",
        "outputId": "70080568-0f1e-411c-b971-2076477ac42a"
      },
      "outputs": [
        {
          "output_type": "stream",
          "name": "stderr",
          "text": [
            "[*********************100%%**********************]  1 of 1 completed\n",
            "[*********************100%%**********************]  1 of 1 completed\n",
            "[*********************100%%**********************]  1 of 1 completed\n",
            "[*********************100%%**********************]  1 of 1 completed\n"
          ]
        },
        {
          "output_type": "stream",
          "name": "stdout",
          "text": [
            "Email sent to: timshurmelev@mail.ru\n"
          ]
        },
        {
          "output_type": "stream",
          "name": "stderr",
          "text": [
            "[*********************100%%**********************]  1 of 1 completed\n",
            "[*********************100%%**********************]  1 of 1 completed\n",
            "[*********************100%%**********************]  1 of 1 completed\n",
            "[*********************100%%**********************]  1 of 1 completed\n",
            "[*********************100%%**********************]  1 of 1 completed\n",
            "[*********************100%%**********************]  1 of 1 completed\n",
            "[*********************100%%**********************]  1 of 1 completed\n",
            "[*********************100%%**********************]  1 of 1 completed\n",
            "[*********************100%%**********************]  1 of 1 completed\n",
            "[*********************100%%**********************]  1 of 1 completed\n",
            "[*********************100%%**********************]  1 of 1 completed\n",
            "[*********************100%%**********************]  1 of 1 completed\n",
            "[*********************100%%**********************]  1 of 1 completed\n",
            "[*********************100%%**********************]  1 of 1 completed\n",
            "[*********************100%%**********************]  1 of 1 completed\n",
            "[*********************100%%**********************]  1 of 1 completed\n",
            "[*********************100%%**********************]  1 of 1 completed"
          ]
        },
        {
          "output_type": "stream",
          "name": "stdout",
          "text": [
            "Email sent to: timshurmelev@mail.ru\n"
          ]
        },
        {
          "output_type": "stream",
          "name": "stderr",
          "text": [
            "\n",
            "[*********************100%%**********************]  1 of 1 completed\n",
            "[*********************100%%**********************]  1 of 1 completed\n",
            "[*********************100%%**********************]  1 of 1 completed\n",
            "[*********************100%%**********************]  1 of 1 completed\n",
            "[*********************100%%**********************]  1 of 1 completed\n",
            "[*********************100%%**********************]  1 of 1 completed\n",
            "[*********************100%%**********************]  1 of 1 completed\n",
            "[*********************100%%**********************]  1 of 1 completed\n",
            "[*********************100%%**********************]  1 of 1 completed\n",
            "[*********************100%%**********************]  1 of 1 completed\n",
            "[*********************100%%**********************]  1 of 1 completed\n",
            "[*********************100%%**********************]  1 of 1 completed\n"
          ]
        },
        {
          "output_type": "stream",
          "name": "stdout",
          "text": [
            "Email sent to: timshurmelev@mail.ru\n"
          ]
        },
        {
          "output_type": "stream",
          "name": "stderr",
          "text": [
            "[*********************100%%**********************]  1 of 1 completed\n",
            "[*********************100%%**********************]  1 of 1 completed\n",
            "[*********************100%%**********************]  1 of 1 completed\n",
            "[*********************100%%**********************]  1 of 1 completed\n",
            "[*********************100%%**********************]  1 of 1 completed\n",
            "[*********************100%%**********************]  1 of 1 completed\n",
            "[*********************100%%**********************]  1 of 1 completed\n",
            "[*********************100%%**********************]  1 of 1 completed\n",
            "[*********************100%%**********************]  1 of 1 completed"
          ]
        },
        {
          "output_type": "stream",
          "name": "stdout",
          "text": [
            "Email sent to: timshurmelev@mail.ru\n"
          ]
        },
        {
          "output_type": "stream",
          "name": "stderr",
          "text": [
            "\n",
            "[*********************100%%**********************]  1 of 1 completed\n",
            "[*********************100%%**********************]  1 of 1 completed\n",
            "[*********************100%%**********************]  1 of 1 completed\n",
            "[*********************100%%**********************]  1 of 1 completed\n",
            "[*********************100%%**********************]  1 of 1 completed\n",
            "[*********************100%%**********************]  1 of 1 completed\n",
            "[*********************100%%**********************]  1 of 1 completed\n",
            "[*********************100%%**********************]  1 of 1 completed\n",
            "[*********************100%%**********************]  1 of 1 completed"
          ]
        },
        {
          "output_type": "stream",
          "name": "stdout",
          "text": [
            "Email sent to: timshurmelev@mail.ru\n"
          ]
        },
        {
          "output_type": "stream",
          "name": "stderr",
          "text": [
            "\n",
            "[*********************100%%**********************]  1 of 1 completed\n",
            "[*********************100%%**********************]  1 of 1 completed\n",
            "[*********************100%%**********************]  1 of 1 completed\n",
            "[*********************100%%**********************]  1 of 1 completed\n"
          ]
        },
        {
          "output_type": "stream",
          "name": "stdout",
          "text": [
            "Email sent to: timshurmelev@mail.ru\n"
          ]
        },
        {
          "output_type": "stream",
          "name": "stderr",
          "text": [
            "\r[*********************100%%**********************]  1 of 1 completed\n"
          ]
        },
        {
          "output_type": "stream",
          "name": "stdout",
          "text": [
            "Email sent to: timshurmelev@mail.ru\n"
          ]
        },
        {
          "output_type": "stream",
          "name": "stderr",
          "text": [
            "[*********************100%%**********************]  1 of 1 completed\n",
            "[*********************100%%**********************]  1 of 1 completed"
          ]
        },
        {
          "output_type": "stream",
          "name": "stdout",
          "text": [
            "Email sent to: timshurmelev@mail.ru\n"
          ]
        },
        {
          "output_type": "stream",
          "name": "stderr",
          "text": [
            "\n",
            "[*********************100%%**********************]  1 of 1 completed\n",
            "[*********************100%%**********************]  1 of 1 completed\n",
            "[*********************100%%**********************]  1 of 1 completed\n",
            "[*********************100%%**********************]  1 of 1 completed\n",
            "[*********************100%%**********************]  1 of 1 completed\n",
            "[*********************100%%**********************]  1 of 1 completed\n",
            "[*********************100%%**********************]  1 of 1 completed\n",
            "[*********************100%%**********************]  1 of 1 completed\n",
            "[*********************100%%**********************]  1 of 1 completed\n",
            "[*********************100%%**********************]  1 of 1 completed\n",
            "[*********************100%%**********************]  1 of 1 completed\n",
            "[*********************100%%**********************]  1 of 1 completed\n",
            "[*********************100%%**********************]  1 of 1 completed\n",
            "[*********************100%%**********************]  1 of 1 completed\n",
            "[*********************100%%**********************]  1 of 1 completed\n",
            "[*********************100%%**********************]  1 of 1 completed\n",
            "[*********************100%%**********************]  1 of 1 completed\n",
            "[*********************100%%**********************]  1 of 1 completed\n",
            "[*********************100%%**********************]  1 of 1 completed\n",
            "[*********************100%%**********************]  1 of 1 completed"
          ]
        },
        {
          "output_type": "stream",
          "name": "stdout",
          "text": [
            "Email sent to: timshurmelev@mail.ru\n"
          ]
        },
        {
          "output_type": "stream",
          "name": "stderr",
          "text": [
            "\n",
            "[*********************100%%**********************]  1 of 1 completed\n",
            "[*********************100%%**********************]  1 of 1 completed\n",
            "[*********************100%%**********************]  1 of 1 completed\n",
            "[*********************100%%**********************]  1 of 1 completed"
          ]
        },
        {
          "output_type": "stream",
          "name": "stdout",
          "text": [
            "Email sent to: timshurmelev@mail.ru\n"
          ]
        },
        {
          "output_type": "stream",
          "name": "stderr",
          "text": [
            "\n",
            "[*********************100%%**********************]  1 of 1 completed\n",
            "[*********************100%%**********************]  1 of 1 completed\n",
            "[*********************100%%**********************]  1 of 1 completed\n",
            "[*********************100%%**********************]  1 of 1 completed\n",
            "[*********************100%%**********************]  1 of 1 completed\n",
            "[*********************100%%**********************]  1 of 1 completed\n",
            "[*********************100%%**********************]  1 of 1 completed\n",
            "[*********************100%%**********************]  1 of 1 completed\n",
            "[*********************100%%**********************]  1 of 1 completed\n",
            "[*********************100%%**********************]  1 of 1 completed\n",
            "[*********************100%%**********************]  1 of 1 completed\n",
            "[*********************100%%**********************]  1 of 1 completed"
          ]
        },
        {
          "output_type": "stream",
          "name": "stdout",
          "text": [
            "Email sent to: timshurmelev@mail.ru\n"
          ]
        },
        {
          "output_type": "stream",
          "name": "stderr",
          "text": [
            "\n",
            "[*********************100%%**********************]  1 of 1 completed\n",
            "[*********************100%%**********************]  1 of 1 completed\n",
            "[*********************100%%**********************]  1 of 1 completed"
          ]
        },
        {
          "output_type": "stream",
          "name": "stdout",
          "text": [
            "   Stock       Close     Support  Break\n",
            "0   TSLA  207.669998  205.779999  False\n",
            "1   NFLX  613.640015  608.349976  False\n",
            "2    DIS   89.570000   89.000000  False\n",
            "3    TXN  187.460007  186.070007  False\n",
            "4     MS   95.849998   95.040001  False\n",
            "5     GM   41.169998   40.990002  False\n",
            "6      F   10.030000   10.000000  False\n",
            "7    AXP  232.279999  230.050003  False\n",
            "8   OKTA   86.690002   86.019997  False\n",
            "9   DDOG  107.250000  106.199997  False\n",
            "10  SQSP   44.049999   43.630001  False\n"
          ]
        },
        {
          "output_type": "stream",
          "name": "stderr",
          "text": [
            "\n"
          ]
        }
      ],
      "source": [
        "import yfinance as yf\n",
        "import pandas as pd\n",
        "import smtplib\n",
        "from email.mime.text import MIMEText\n",
        "from email.mime.multipart import MIMEMultipart\n",
        "\n",
        "# Email configuration\n",
        "EMAIL_USER = 'timshurmelev@mail.ru'\n",
        "EMAIL_PASSWORD = 'tgjcSvQNwTUpT5XAfZnk'\n",
        "\n",
        "# Function to send email notifications\n",
        "def send_email(subject, body, to_email):\n",
        "    from_email = EMAIL_USER\n",
        "    password = EMAIL_PASSWORD\n",
        "\n",
        "    msg = MIMEMultipart()\n",
        "    msg['From'] = from_email\n",
        "    msg['To'] = to_email\n",
        "    msg['Subject'] = subject\n",
        "\n",
        "    msg.attach(MIMEText(body, 'plain'))\n",
        "\n",
        "    try:\n",
        "        with smtplib.SMTP('smtp.mail.ru', 587) as server:\n",
        "            server.starttls()\n",
        "            server.login(from_email, password)\n",
        "            text = msg.as_string()\n",
        "            server.sendmail(from_email, to_email, text)\n",
        "        print(f\"Email sent to: {to_email}\")\n",
        "    except Exception as e:\n",
        "        print(f\"Error sending email: {e}\")\n",
        "\n",
        "# Function to calculate support lines\n",
        "def calculate_support(data, window=90):\n",
        "    data['Support'] = data['Low'].rolling(window=window).min()\n",
        "    return data\n",
        "\n",
        "# Function to identify stocks near or below support line\n",
        "def check_support_break(stock_list, window=20, threshold=0.01):\n",
        "    result = []\n",
        "    failed_tickers = []\n",
        "    for stock in stock_list:\n",
        "        try:\n",
        "            # Download historical data\n",
        "            data = yf.download(stock, period='1y', interval='1d')\n",
        "\n",
        "            # Check if data is empty\n",
        "            if data.empty:\n",
        "                print(f\"No data for {stock}. Skipping...\")\n",
        "                failed_tickers.append(stock)\n",
        "                continue\n",
        "\n",
        "            # Calculate support levels\n",
        "            data = calculate_support(data, window)\n",
        "\n",
        "            # Ensure Support column has valid data\n",
        "            if data['Support'].isna().all():\n",
        "                print(f\"Support data not available for {stock}. Skipping...\")\n",
        "                failed_tickers.append(stock)\n",
        "                continue\n",
        "\n",
        "            # Get the last close and support values\n",
        "            last_close = data['Close'].iloc[-1]\n",
        "            last_support = data['Support'].iloc[-1]\n",
        "\n",
        "            # Check if last_close is less than or equal to the support level within threshold\n",
        "            if last_close <= last_support * (1 + threshold):\n",
        "                result.append({\n",
        "                    'Stock': stock,\n",
        "                    'Close': last_close,\n",
        "                    'Support': last_support,\n",
        "                    'Break': last_close < last_support\n",
        "                })\n",
        "\n",
        "                # Send email notification\n",
        "                subject = f\"Alert: {stock} Close to Support Line\"\n",
        "                body = f\"{stock} is close to its support level. Current close: {last_close}, Support: {last_support}\"\n",
        "                send_email(subject, body, \"timshurmelev@mail.ru\")\n",
        "\n",
        "        except Exception as e:\n",
        "            print(f\"Unexpected error for {stock}: {e}\")\n",
        "            failed_tickers.append(stock)\n",
        "\n",
        "    return pd.DataFrame(result), failed_tickers\n",
        "\n",
        "# Define your stock list\n",
        "stock_list = ['AAPL', 'MSFT', 'AMZN', 'TSLA', 'NVDA', 'GOOGL', 'META', 'BRK-B', 'JNJ', 'PG',\n",
        "    'V', 'MA', 'UNH', 'WMT', 'JPM', 'HD', 'INTC', 'KO', 'PEP', 'NFLX',\n",
        "    'ABBV', 'ADBE', 'CSCO', 'T', 'VZ', 'PFE', 'CRM', 'MRK', 'ORCL', 'IBM',\n",
        "    'XOM', 'CVX', 'DIS', 'MCD', 'PYPL', 'SBUX', 'NKE', 'GE', 'BA', 'GILD',\n",
        "    'TXN', 'QCOM', 'LMT', 'MMM', 'ABT', 'HON', 'DHR', 'MDT', 'GS', 'MS',\n",
        "    'AMT', 'TMUS', 'BMY', 'CVS', 'GM', 'F', 'AXP', 'BIDU', 'BABA', 'JD',\n",
        "    'NIO', 'LI', 'XPEV', 'ZM', 'SQ', 'TWLO', 'PTON', 'SNOW', 'SHOP',\n",
        "    'RBLX', 'PLTR', 'DKNG', 'ETSY', 'DASH', 'U', 'MDB', 'OKTA', 'NOW',\n",
        "    'HUBS', 'VEEV', 'DDOG', 'CPNG', 'AI', 'FVRR', 'CRWD', 'WIX', 'Z',\n",
        "    'UBER', 'LYFT', 'BYND', 'NTNX', 'FSLY', 'SQSP', 'ALNY',\n",
        "    'ILMN', 'SPGI', 'NDAQ']\n",
        "\n",
        "# Run the check\n",
        "results, failed_tickers = check_support_break(stock_list)\n",
        "\n",
        "# Show results\n",
        "print(results)\n",
        "\n",
        "# Show failed tickers\n",
        "if failed_tickers:\n",
        "    print(\"\\nFailed tickers:\")\n",
        "    for ticker in failed_tickers:\n",
        "        print(ticker)"
      ]
    },
    {
      "cell_type": "code",
      "source": [
        "%pwd\n"
      ],
      "metadata": {
        "colab": {
          "base_uri": "https://localhost:8080/",
          "height": 35
        },
        "id": "BJQOQWcink7i",
        "outputId": "6d0779ed-95eb-402d-b630-92fd4f5b6cb2"
      },
      "execution_count": 2,
      "outputs": [
        {
          "output_type": "execute_result",
          "data": {
            "text/plain": [
              "'/content'"
            ],
            "application/vnd.google.colaboratory.intrinsic+json": {
              "type": "string"
            }
          },
          "metadata": {},
          "execution_count": 2
        }
      ]
    },
    {
      "cell_type": "code",
      "source": [
        "!ls\n"
      ],
      "metadata": {
        "colab": {
          "base_uri": "https://localhost:8080/"
        },
        "id": "sVQhf_Mhnq7o",
        "outputId": "a54e7743-08ff-47b7-cea4-6dba63ef962e"
      },
      "execution_count": 3,
      "outputs": [
        {
          "output_type": "stream",
          "name": "stdout",
          "text": [
            "sample_data\n"
          ]
        }
      ]
    }
  ]
}