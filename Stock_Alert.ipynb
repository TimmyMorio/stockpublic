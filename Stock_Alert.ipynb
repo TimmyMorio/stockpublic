{
  "nbformat": 4,
  "nbformat_minor": 0,
  "metadata": {
    "colab": {
      "provenance": [],
      "authorship_tag": "ABX9TyMUbogjEphyL99XfWyqAVUS",
      "include_colab_link": true
    },
    "kernelspec": {
      "name": "python3",
      "display_name": "Python 3"
    },
    "language_info": {
      "name": "python"
    }
  },
  "cells": [
    {
      "cell_type": "markdown",
      "metadata": {
        "id": "view-in-github",
        "colab_type": "text"
      },
      "source": [
        "<a href=\"https://colab.research.google.com/github/TimmyMorio/stockpublic/blob/main/Stock_Alert.ipynb\" target=\"_parent\"><img src=\"https://colab.research.google.com/assets/colab-badge.svg\" alt=\"Open In Colab\"/></a>"
      ]
    },
    {
      "cell_type": "code",
      "execution_count": 2,
      "metadata": {
        "id": "lIiD2cE8alVJ",
        "outputId": "484c7cb8-8160-422b-8929-43b388bb9e2f",
        "colab": {
          "base_uri": "https://localhost:8080/"
        }
      },
      "outputs": [
        {
          "output_type": "stream",
          "name": "stderr",
          "text": [
            "[*********************100%***********************]  1 of 1 completed\n",
            "[*********************100%***********************]  1 of 1 completed\n",
            "[*********************100%***********************]  1 of 1 completed"
          ]
        },
        {
          "output_type": "stream",
          "name": "stdout",
          "text": [
            "Email sent to: timshurmelev@mail.ru\n"
          ]
        },
        {
          "output_type": "stream",
          "name": "stderr",
          "text": [
            "\n",
            "[*********************100%***********************]  1 of 1 completed\n",
            "[*********************100%***********************]  1 of 1 completed"
          ]
        },
        {
          "output_type": "stream",
          "name": "stdout",
          "text": [
            "Email sent to: timshurmelev@mail.ru\n"
          ]
        },
        {
          "output_type": "stream",
          "name": "stderr",
          "text": [
            "\n",
            "[*********************100%***********************]  1 of 1 completed\n",
            "[*********************100%***********************]  1 of 1 completed\n",
            "[*********************100%***********************]  1 of 1 completed"
          ]
        },
        {
          "output_type": "stream",
          "name": "stdout",
          "text": [
            "Email sent to: timshurmelev@mail.ru\n"
          ]
        },
        {
          "output_type": "stream",
          "name": "stderr",
          "text": [
            "\n",
            "[*********************100%***********************]  1 of 1 completed\n",
            "[*********************100%***********************]  1 of 1 completed\n",
            "[*********************100%***********************]  1 of 1 completed\n",
            "[*********************100%***********************]  1 of 1 completed\n",
            "[*********************100%***********************]  1 of 1 completed\n",
            "[*********************100%***********************]  1 of 1 completed\n",
            "[*********************100%***********************]  1 of 1 completed\n",
            "[*********************100%***********************]  1 of 1 completed"
          ]
        },
        {
          "output_type": "stream",
          "name": "stdout",
          "text": [
            "Email sent to: timshurmelev@mail.ru\n"
          ]
        },
        {
          "output_type": "stream",
          "name": "stderr",
          "text": [
            "\n",
            "[*********************100%***********************]  1 of 1 completed"
          ]
        },
        {
          "output_type": "stream",
          "name": "stdout",
          "text": [
            "Email sent to: timshurmelev@mail.ru\n"
          ]
        },
        {
          "output_type": "stream",
          "name": "stderr",
          "text": [
            "\n",
            "[*********************100%***********************]  1 of 1 completed\n",
            "[*********************100%***********************]  1 of 1 completed\n",
            "[*********************100%***********************]  1 of 1 completed\n",
            "[*********************100%***********************]  1 of 1 completed\n",
            "[*********************100%***********************]  1 of 1 completed\n",
            "[*********************100%***********************]  1 of 1 completed\n",
            "[*********************100%***********************]  1 of 1 completed\n",
            "[*********************100%***********************]  1 of 1 completed\n",
            "[*********************100%***********************]  1 of 1 completed\n",
            "[*********************100%***********************]  1 of 1 completed\n",
            "[*********************100%***********************]  1 of 1 completed"
          ]
        },
        {
          "output_type": "stream",
          "name": "stdout",
          "text": [
            "Email sent to: timshurmelev@mail.ru\n"
          ]
        },
        {
          "output_type": "stream",
          "name": "stderr",
          "text": [
            "\n",
            "[*********************100%***********************]  1 of 1 completed\n",
            "[*********************100%***********************]  1 of 1 completed\n",
            "[*********************100%***********************]  1 of 1 completed\n",
            "[*********************100%***********************]  1 of 1 completed\n",
            "[*********************100%***********************]  1 of 1 completed\n",
            "[*********************100%***********************]  1 of 1 completed"
          ]
        },
        {
          "output_type": "stream",
          "name": "stdout",
          "text": [
            "Email sent to: timshurmelev@mail.ru\n"
          ]
        },
        {
          "output_type": "stream",
          "name": "stderr",
          "text": [
            "\n",
            "[*********************100%***********************]  1 of 1 completed\n",
            "[*********************100%***********************]  1 of 1 completed"
          ]
        },
        {
          "output_type": "stream",
          "name": "stdout",
          "text": [
            "Email sent to: timshurmelev@mail.ru\n"
          ]
        },
        {
          "output_type": "stream",
          "name": "stderr",
          "text": [
            "\n",
            "[*********************100%***********************]  1 of 1 completed\n",
            "[*********************100%***********************]  1 of 1 completed\n",
            "[*********************100%***********************]  1 of 1 completed\n",
            "[*********************100%***********************]  1 of 1 completed\n",
            "[*********************100%***********************]  1 of 1 completed\n",
            "[*********************100%***********************]  1 of 1 completed\n",
            "[*********************100%***********************]  1 of 1 completed"
          ]
        },
        {
          "output_type": "stream",
          "name": "stdout",
          "text": [
            "Email sent to: timshurmelev@mail.ru\n"
          ]
        },
        {
          "output_type": "stream",
          "name": "stderr",
          "text": [
            "\n",
            "[*********************100%***********************]  1 of 1 completed\n",
            "[*********************100%***********************]  1 of 1 completed"
          ]
        },
        {
          "output_type": "stream",
          "name": "stdout",
          "text": [
            "Email sent to: timshurmelev@mail.ru\n"
          ]
        },
        {
          "output_type": "stream",
          "name": "stderr",
          "text": [
            "\n",
            "[*********************100%***********************]  1 of 1 completed\n",
            "[*********************100%***********************]  1 of 1 completed\n",
            "[*********************100%***********************]  1 of 1 completed\n",
            "[*********************100%***********************]  1 of 1 completed\n",
            "[*********************100%***********************]  1 of 1 completed"
          ]
        },
        {
          "output_type": "stream",
          "name": "stdout",
          "text": [
            "Email sent to: timshurmelev@mail.ru\n"
          ]
        },
        {
          "output_type": "stream",
          "name": "stderr",
          "text": [
            "\n",
            "[*********************100%***********************]  1 of 1 completed\n",
            "[*********************100%***********************]  1 of 1 completed"
          ]
        },
        {
          "output_type": "stream",
          "name": "stdout",
          "text": [
            "Email sent to: timshurmelev@mail.ru\n"
          ]
        },
        {
          "output_type": "stream",
          "name": "stderr",
          "text": [
            "\n",
            "[*********************100%***********************]  1 of 1 completed\n",
            "[*********************100%***********************]  1 of 1 completed\n",
            "[*********************100%***********************]  1 of 1 completed\n",
            "[*********************100%***********************]  1 of 1 completed"
          ]
        },
        {
          "output_type": "stream",
          "name": "stdout",
          "text": [
            "Email sent to: timshurmelev@mail.ru\n"
          ]
        },
        {
          "output_type": "stream",
          "name": "stderr",
          "text": [
            "\n",
            "[*********************100%***********************]  1 of 1 completed\n",
            "[*********************100%***********************]  1 of 1 completed\n",
            "[*********************100%***********************]  1 of 1 completed"
          ]
        },
        {
          "output_type": "stream",
          "name": "stdout",
          "text": [
            "Email sent to: timshurmelev@mail.ru\n"
          ]
        },
        {
          "output_type": "stream",
          "name": "stderr",
          "text": [
            "\n",
            "[*********************100%***********************]  1 of 1 completed\n",
            "[*********************100%***********************]  1 of 1 completed\n",
            "[*********************100%***********************]  1 of 1 completed\n",
            "[*********************100%***********************]  1 of 1 completed\n",
            "[*********************100%***********************]  1 of 1 completed\n",
            "[*********************100%***********************]  1 of 1 completed\n",
            "[*********************100%***********************]  1 of 1 completed\n",
            "[*********************100%***********************]  1 of 1 completed\n",
            "[*********************100%***********************]  1 of 1 completed\n",
            "[*********************100%***********************]  1 of 1 completed\n",
            "[*********************100%***********************]  1 of 1 completed\n",
            "[*********************100%***********************]  1 of 1 completed\n",
            "[*********************100%***********************]  1 of 1 completed\n",
            "[*********************100%***********************]  1 of 1 completed\n",
            "[*********************100%***********************]  1 of 1 completed\n",
            "[*********************100%***********************]  1 of 1 completed\n",
            "[*********************100%***********************]  1 of 1 completed\n",
            "[*********************100%***********************]  1 of 1 completed\n",
            "[*********************100%***********************]  1 of 1 completed\n",
            "[*********************100%***********************]  1 of 1 completed\n",
            "[*********************100%***********************]  1 of 1 completed"
          ]
        },
        {
          "output_type": "stream",
          "name": "stdout",
          "text": [
            "Email sent to: timshurmelev@mail.ru\n"
          ]
        },
        {
          "output_type": "stream",
          "name": "stderr",
          "text": [
            "\n",
            "[*********************100%***********************]  1 of 1 completed\n",
            "[*********************100%***********************]  1 of 1 completed"
          ]
        },
        {
          "output_type": "stream",
          "name": "stdout",
          "text": [
            "Email sent to: timshurmelev@mail.ru\n"
          ]
        },
        {
          "output_type": "stream",
          "name": "stderr",
          "text": [
            "\n",
            "[*********************100%***********************]  1 of 1 completed\n",
            "[*********************100%***********************]  1 of 1 completed"
          ]
        },
        {
          "output_type": "stream",
          "name": "stdout",
          "text": [
            "Email sent to: timshurmelev@mail.ru\n"
          ]
        },
        {
          "output_type": "stream",
          "name": "stderr",
          "text": [
            "\n",
            "[*********************100%***********************]  1 of 1 completed\n",
            "[*********************100%***********************]  1 of 1 completed"
          ]
        },
        {
          "output_type": "stream",
          "name": "stdout",
          "text": [
            "Email sent to: timshurmelev@mail.ru\n"
          ]
        },
        {
          "output_type": "stream",
          "name": "stderr",
          "text": [
            "\n",
            "[*********************100%***********************]  1 of 1 completed\n",
            "[*********************100%***********************]  1 of 1 completed"
          ]
        },
        {
          "output_type": "stream",
          "name": "stdout",
          "text": [
            "Email sent to: timshurmelev@mail.ru\n"
          ]
        },
        {
          "output_type": "stream",
          "name": "stderr",
          "text": [
            "\n",
            "[*********************100%***********************]  1 of 1 completed\n",
            "[*********************100%***********************]  1 of 1 completed\n",
            "[*********************100%***********************]  1 of 1 completed\n",
            "[*********************100%***********************]  1 of 1 completed\n"
          ]
        },
        {
          "output_type": "stream",
          "name": "stdout",
          "text": [
            "Email sent to: timshurmelev@mail.ru\n"
          ]
        },
        {
          "output_type": "stream",
          "name": "stderr",
          "text": [
            "\r[*********************100%***********************]  1 of 1 completed\n",
            "ERROR:yfinance:\n",
            "1 Failed download:\n",
            "ERROR:yfinance:['SQSP']: YFPricesMissingError('possibly delisted; no price data found  (period=1y) (Yahoo error = \"No data found, symbol may be delisted\")')\n",
            "[*********************100%***********************]  1 of 1 completed\n",
            "[*********************100%***********************]  1 of 1 completed\n"
          ]
        },
        {
          "output_type": "stream",
          "name": "stdout",
          "text": [
            "No data for SQSP. Skipping...\n"
          ]
        },
        {
          "output_type": "stream",
          "name": "stderr",
          "text": [
            "\r[*********************100%***********************]  1 of 1 completed"
          ]
        },
        {
          "output_type": "stream",
          "name": "stdout",
          "text": [
            "Email sent to: timshurmelev@mail.ru\n"
          ]
        },
        {
          "output_type": "stream",
          "name": "stderr",
          "text": [
            "\n",
            "\r[*********************100%***********************]  1 of 1 completed"
          ]
        },
        {
          "output_type": "stream",
          "name": "stdout",
          "text": [
            "    Stock       Close     Support  Break\n",
            "0    MSFT  408.209991  404.369995  False\n",
            "1    AMZN  216.580002  214.740005  False\n",
            "2   GOOGL  179.660004  179.080002  False\n",
            "3     JPM  264.239990  261.700012  False\n",
            "4      HD  385.299988  383.899994  False\n",
            "5     CRM  309.799988  306.859985  False\n",
            "6     DIS  108.660004  107.690002  False\n",
            "7    PYPL   74.949997   74.750000  False\n",
            "8    QCOM  165.429993  165.210007  False\n",
            "9     MMM  144.979996  144.559998  False\n",
            "10     GS  625.599976  622.479980  False\n",
            "11     MS  131.690002  130.910004  False\n",
            "12     GM   46.290001   45.930000  False\n",
            "13    AXP  295.399994  293.850006  False\n",
            "14    NOW  938.409973  933.010010  False\n",
            "15   DDOG  119.639999  119.589996  False\n",
            "16     AI   28.500000   28.410000  False\n",
            "17   FVRR   25.700001   25.665001  False\n",
            "18    WIX  198.110001  197.369995  False\n",
            "19   FSLY    7.260000    7.260000  False\n",
            "20   ILMN   94.199997   93.500000  False\n",
            "\n",
            "Failed tickers:\n",
            "SQSP\n"
          ]
        },
        {
          "output_type": "stream",
          "name": "stderr",
          "text": [
            "\n"
          ]
        }
      ],
      "source": [
        "import yfinance as yf\n",
        "import pandas as pd\n",
        "import smtplib\n",
        "from email.mime.text import MIMEText\n",
        "from email.mime.multipart import MIMEMultipart\n",
        "\n",
        "# Email configuration\n",
        "EMAIL_USER = 'timshurmelev@mail.ru'\n",
        "EMAIL_PASSWORD = 'tgjcSvQNwTUpT5XAfZnk'\n",
        "\n",
        "# Function to send email notifications\n",
        "def send_email(subject, body, to_email):\n",
        "    from_email = EMAIL_USER\n",
        "    password = EMAIL_PASSWORD\n",
        "\n",
        "    msg = MIMEMultipart()\n",
        "    msg['From'] = from_email\n",
        "    msg['To'] = to_email\n",
        "    msg['Subject'] = subject\n",
        "\n",
        "    msg.attach(MIMEText(body, 'plain'))\n",
        "\n",
        "    try:\n",
        "        with smtplib.SMTP('smtp.mail.ru', 587) as server:\n",
        "            server.starttls()\n",
        "            server.login(from_email, password)\n",
        "            text = msg.as_string()\n",
        "            server.sendmail(from_email, to_email, text)\n",
        "        print(f\"Email sent to: {to_email}\")\n",
        "    except Exception as e:\n",
        "        print(f\"Error sending email: {e}\")\n",
        "\n",
        "# Function to calculate support lines\n",
        "def calculate_support(data, window=90):\n",
        "    data['Support'] = data['Low'].rolling(window=window).min()\n",
        "    return data\n",
        "\n",
        "# Function to identify stocks near or below support line\n",
        "def check_support_break(stock_list, window=20, threshold=0.01):\n",
        "    result = []\n",
        "    failed_tickers = []\n",
        "    for stock in stock_list:\n",
        "        try:\n",
        "            # Download historical data\n",
        "            data = yf.download(stock, period='1y', interval='1d', auto_adjust=False)\n",
        "\n",
        "            # Check if data is empty\n",
        "            if data.empty:\n",
        "                print(f\"No data for {stock}. Skipping...\")\n",
        "                failed_tickers.append(stock)\n",
        "                continue\n",
        "\n",
        "            # Calculate support levels\n",
        "            data = calculate_support(data, window)\n",
        "\n",
        "            # Ensure Support column has valid data\n",
        "            if data['Support'].isna().all():\n",
        "                print(f\"Support data not available for {stock}. Skipping...\")\n",
        "                failed_tickers.append(stock)\n",
        "                continue\n",
        "\n",
        "            # Get the last close and support values\n",
        "            last_close = data['Close'].iloc[-1].item()\n",
        "            last_support = data['Support'].iloc[-1].item()\n",
        "\n",
        "            # Check if last_close is less than or equal to the support level within threshold\n",
        "            if last_close <= last_support * (1 + threshold):\n",
        "                result.append({\n",
        "                    'Stock': stock,\n",
        "                    'Close': last_close,\n",
        "                    'Support': last_support,\n",
        "                    'Break': last_close < last_support\n",
        "                })\n",
        "\n",
        "                # Send email notification\n",
        "                subject = f\"Alert: {stock} Close to Support Line\"\n",
        "                body = f\"{stock} is close to its support level. Current close: {last_close}, Support: {last_support}\"\n",
        "                send_email(subject, body, \"timshurmelev@mail.ru\")\n",
        "\n",
        "        except Exception as e:\n",
        "            print(f\"Unexpected error for {stock}: {e}\")\n",
        "            failed_tickers.append(stock)\n",
        "\n",
        "    return pd.DataFrame(result), failed_tickers\n",
        "\n",
        "# Define your stock list\n",
        "stock_list = ['AAPL', 'MSFT', 'AMZN', 'TSLA', 'NVDA', 'GOOGL', 'META', 'BRK-B', 'JNJ', 'PG',\n",
        "    'V', 'MA', 'UNH', 'WMT', 'JPM', 'HD', 'INTC', 'KO', 'PEP', 'NFLX',\n",
        "    'ABBV', 'ADBE', 'CSCO', 'T', 'VZ', 'PFE', 'CRM', 'MRK', 'ORCL', 'IBM',\n",
        "    'XOM', 'CVX', 'DIS', 'MCD', 'PYPL', 'SBUX', 'NKE', 'GE', 'BA', 'GILD',\n",
        "    'TXN', 'QCOM', 'LMT', 'MMM', 'ABT', 'HON', 'DHR', 'MDT', 'GS', 'MS',\n",
        "    'AMT', 'TMUS', 'BMY', 'CVS', 'GM', 'F', 'AXP', 'BIDU', 'BABA', 'JD',\n",
        "    'NIO', 'LI', 'XPEV', 'ZM', 'SQ', 'TWLO', 'PTON', 'SNOW', 'SHOP',\n",
        "    'RBLX', 'PLTR', 'DKNG', 'ETSY', 'DASH', 'U', 'MDB', 'OKTA', 'NOW',\n",
        "    'HUBS', 'VEEV', 'DDOG', 'CPNG', 'AI', 'FVRR', 'CRWD', 'WIX', 'Z',\n",
        "    'UBER', 'LYFT', 'BYND', 'NTNX', 'FSLY', 'SQSP', 'ALNY',\n",
        "    'ILMN', 'SPGI', 'NDAQ']\n",
        "\n",
        "# Run the check\n",
        "results, failed_tickers = check_support_break(stock_list)\n",
        "\n",
        "# Show results\n",
        "print(results)\n",
        "\n",
        "# Show failed tickers\n",
        "if failed_tickers:\n",
        "    print(\"\\nFailed tickers:\")\n",
        "    for ticker in failed_tickers:\n",
        "        print(ticker)"
      ]
    }
  ]
}